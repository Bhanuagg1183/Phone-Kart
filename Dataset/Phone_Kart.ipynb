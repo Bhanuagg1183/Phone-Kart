{
  "nbformat": 4,
  "nbformat_minor": 0,
  "metadata": {
    "colab": {
      "provenance": []
    },
    "kernelspec": {
      "name": "python3",
      "display_name": "Python 3"
    },
    "language_info": {
      "name": "python"
    }
  },
  "cells": [
    {
      "cell_type": "markdown",
      "source": [
        "# **Set up the environment**\n",
        "**Install the required libraries**\n",
        "\n",
        "Pandas\n",
        "\n",
        "Numpy\n",
        "\n",
        "Matplotlib\n",
        "\n",
        "Seaborn\n",
        "\n",
        "Scikit-Learn"
      ],
      "metadata": {
        "id": "mqXAEbM50gF-"
      }
    },
    {
      "cell_type": "code",
      "execution_count": 46,
      "metadata": {
        "colab": {
          "base_uri": "https://localhost:8080/"
        },
        "id": "6amn8Dv_zgJ7",
        "outputId": "064d1e9b-1166-43f0-d50e-35b4854dd156"
      },
      "outputs": [
        {
          "output_type": "stream",
          "name": "stdout",
          "text": [
            "Requirement already satisfied: pandas in /usr/local/lib/python3.11/dist-packages (2.2.2)\n",
            "Requirement already satisfied: numpy in /usr/local/lib/python3.11/dist-packages (2.0.2)\n",
            "Requirement already satisfied: matplotlib in /usr/local/lib/python3.11/dist-packages (3.10.0)\n",
            "Requirement already satisfied: seaborn in /usr/local/lib/python3.11/dist-packages (0.13.2)\n",
            "Requirement already satisfied: scikit-learn in /usr/local/lib/python3.11/dist-packages (1.6.1)\n",
            "Requirement already satisfied: python-dateutil>=2.8.2 in /usr/local/lib/python3.11/dist-packages (from pandas) (2.9.0.post0)\n",
            "Requirement already satisfied: pytz>=2020.1 in /usr/local/lib/python3.11/dist-packages (from pandas) (2025.2)\n",
            "Requirement already satisfied: tzdata>=2022.7 in /usr/local/lib/python3.11/dist-packages (from pandas) (2025.2)\n",
            "Requirement already satisfied: contourpy>=1.0.1 in /usr/local/lib/python3.11/dist-packages (from matplotlib) (1.3.3)\n",
            "Requirement already satisfied: cycler>=0.10 in /usr/local/lib/python3.11/dist-packages (from matplotlib) (0.12.1)\n",
            "Requirement already satisfied: fonttools>=4.22.0 in /usr/local/lib/python3.11/dist-packages (from matplotlib) (4.59.0)\n",
            "Requirement already satisfied: kiwisolver>=1.3.1 in /usr/local/lib/python3.11/dist-packages (from matplotlib) (1.4.8)\n",
            "Requirement already satisfied: packaging>=20.0 in /usr/local/lib/python3.11/dist-packages (from matplotlib) (25.0)\n",
            "Requirement already satisfied: pillow>=8 in /usr/local/lib/python3.11/dist-packages (from matplotlib) (11.3.0)\n",
            "Requirement already satisfied: pyparsing>=2.3.1 in /usr/local/lib/python3.11/dist-packages (from matplotlib) (3.2.3)\n",
            "Requirement already satisfied: scipy>=1.6.0 in /usr/local/lib/python3.11/dist-packages (from scikit-learn) (1.16.1)\n",
            "Requirement already satisfied: joblib>=1.2.0 in /usr/local/lib/python3.11/dist-packages (from scikit-learn) (1.5.1)\n",
            "Requirement already satisfied: threadpoolctl>=3.1.0 in /usr/local/lib/python3.11/dist-packages (from scikit-learn) (3.6.0)\n",
            "Requirement already satisfied: six>=1.5 in /usr/local/lib/python3.11/dist-packages (from python-dateutil>=2.8.2->pandas) (1.17.0)\n"
          ]
        }
      ],
      "source": [
        "pip install pandas numpy matplotlib seaborn scikit-learn"
      ]
    },
    {
      "cell_type": "markdown",
      "source": [
        "# **Import the required libraries**"
      ],
      "metadata": {
        "id": "pTLn0Svt07yX"
      }
    },
    {
      "cell_type": "code",
      "source": [
        "import pandas as pd\n",
        "import numpy as np\n",
        "import matplotlib.pyplot as plt\n",
        "import seaborn as sns\n",
        "\n",
        "\n",
        "from sklearn.model_selection import train_test_split\n",
        "from sklearn.preprocessing import StandardScaler\n",
        "from sklearn.linear_model import LogisticRegression\n",
        "from sklearn.ensemble import RandomForestClassifier, GradientBoostingClassifier\n",
        "from sklearn.metrics import classification_report, confusion_matrix, accuracy_score"
      ],
      "metadata": {
        "id": "_Yj89zeyz6mm"
      },
      "execution_count": 47,
      "outputs": []
    },
    {
      "cell_type": "markdown",
      "source": [
        "# **Load and Explore Dataset**"
      ],
      "metadata": {
        "id": "CXk82dRN1YEb"
      }
    },
    {
      "cell_type": "markdown",
      "source": [
        "**Here we import the sample dataset to python and assign it to data variable**"
      ],
      "metadata": {
        "id": "AZ2BStmuj9iI"
      }
    },
    {
      "cell_type": "code",
      "source": [
        "df = pd.read_csv('/content/drive/MyDrive/ML Datasets/Phone Pricing dataset.csv')"
      ],
      "metadata": {
        "id": "2KUraLD90AwJ"
      },
      "execution_count": 54,
      "outputs": []
    },
    {
      "cell_type": "markdown",
      "source": [
        "**A quick look into the data**"
      ],
      "metadata": {
        "id": "n-LpgeOSkVsU"
      }
    },
    {
      "cell_type": "markdown",
      "source": [
        "Gives general information about the number of data and the type of data"
      ],
      "metadata": {
        "id": "91-Z4jeEkbbr"
      }
    },
    {
      "cell_type": "code",
      "source": [
        "print(df.head())"
      ],
      "metadata": {
        "id": "fmJjiQLFkL8W",
        "colab": {
          "base_uri": "https://localhost:8080/"
        },
        "outputId": "868b40bd-8b44-4f7b-ad5a-8dbe58e3373f"
      },
      "execution_count": 55,
      "outputs": [
        {
          "output_type": "stream",
          "name": "stdout",
          "text": [
            "   battery_power  blue  clock_speed  dual_sim  fc  four_g  int_memory  m_dep  \\\n",
            "0            842     0          2.2         0   1       0           7    0.6   \n",
            "1           1021     1          0.5         1   0       1          53    0.7   \n",
            "2            563     1          0.5         1   2       1          41    0.9   \n",
            "3            615     1          2.5         0   0       0          10    0.8   \n",
            "4           1821     1          1.2         0  13       1          44    0.6   \n",
            "\n",
            "   mobile_wt  n_cores  ...  px_height  px_width   ram  sc_h  sc_w  talk_time  \\\n",
            "0        188        2  ...         20       756  2549     9     7         19   \n",
            "1        136        3  ...        905      1988  2631    17     3          7   \n",
            "2        145        5  ...       1263      1716  2603    11     2          9   \n",
            "3        131        6  ...       1216      1786  2769    16     8         11   \n",
            "4        141        2  ...       1208      1212  1411     8     2         15   \n",
            "\n",
            "   three_g  touch_screen  wifi  price_range  \n",
            "0        0             0     1            1  \n",
            "1        1             1     0            2  \n",
            "2        1             1     0            2  \n",
            "3        1             0     0            2  \n",
            "4        1             1     0            1  \n",
            "\n",
            "[5 rows x 21 columns]\n"
          ]
        }
      ]
    },
    {
      "cell_type": "code",
      "source": [
        "print(df.info())"
      ],
      "metadata": {
        "colab": {
          "base_uri": "https://localhost:8080/"
        },
        "id": "TXWTmIwCpaAB",
        "outputId": "1d4240ad-9ffb-4c52-8f83-d0800ef3d7ed"
      },
      "execution_count": 56,
      "outputs": [
        {
          "output_type": "stream",
          "name": "stdout",
          "text": [
            "<class 'pandas.core.frame.DataFrame'>\n",
            "RangeIndex: 2000 entries, 0 to 1999\n",
            "Data columns (total 21 columns):\n",
            " #   Column         Non-Null Count  Dtype  \n",
            "---  ------         --------------  -----  \n",
            " 0   battery_power  2000 non-null   int64  \n",
            " 1   blue           2000 non-null   int64  \n",
            " 2   clock_speed    2000 non-null   float64\n",
            " 3   dual_sim       2000 non-null   int64  \n",
            " 4   fc             2000 non-null   int64  \n",
            " 5   four_g         2000 non-null   int64  \n",
            " 6   int_memory     2000 non-null   int64  \n",
            " 7   m_dep          2000 non-null   float64\n",
            " 8   mobile_wt      2000 non-null   int64  \n",
            " 9   n_cores        2000 non-null   int64  \n",
            " 10  pc             2000 non-null   int64  \n",
            " 11  px_height      2000 non-null   int64  \n",
            " 12  px_width       2000 non-null   int64  \n",
            " 13  ram            2000 non-null   int64  \n",
            " 14  sc_h           2000 non-null   int64  \n",
            " 15  sc_w           2000 non-null   int64  \n",
            " 16  talk_time      2000 non-null   int64  \n",
            " 17  three_g        2000 non-null   int64  \n",
            " 18  touch_screen   2000 non-null   int64  \n",
            " 19  wifi           2000 non-null   int64  \n",
            " 20  price_range    2000 non-null   int64  \n",
            "dtypes: float64(2), int64(19)\n",
            "memory usage: 328.3 KB\n",
            "None\n"
          ]
        }
      ]
    },
    {
      "cell_type": "code",
      "source": [
        "print(df['price_range'].value_counts())  # 0: low, 1: medium, 2: high, 3: very high"
      ],
      "metadata": {
        "colab": {
          "base_uri": "https://localhost:8080/"
        },
        "id": "qdtUU9wbpexk",
        "outputId": "42af5eec-ecfa-4d72-9659-3fb5b977c47d"
      },
      "execution_count": 57,
      "outputs": [
        {
          "output_type": "stream",
          "name": "stdout",
          "text": [
            "price_range\n",
            "1    500\n",
            "2    500\n",
            "3    500\n",
            "0    500\n",
            "Name: count, dtype: int64\n"
          ]
        }
      ]
    },
    {
      "cell_type": "markdown",
      "source": [
        "# **Preprocess Data**\n",
        "\n",
        "**Check for missing values**\n",
        "\n",
        "**Normalize or scale features**\n",
        "\n",
        "**Encode if necessary**"
      ],
      "metadata": {
        "id": "FJNOYM0J20u3"
      }
    },
    {
      "cell_type": "code",
      "source": [
        "# No missing values in this dataset, but check:\n",
        "print(df.isnull().sum())\n",
        "\n",
        "# Feature and label split\n",
        "X = df.drop('price_range', axis=1)\n",
        "y = df['price_range']\n",
        "\n",
        "# Scale features\n",
        "scaler = StandardScaler()\n",
        "X_scaled = scaler.fit_transform(X)"
      ],
      "metadata": {
        "colab": {
          "base_uri": "https://localhost:8080/"
        },
        "id": "UQ2H4j_K0Ozp",
        "outputId": "bc143c2d-6941-41bd-86f5-f2e00ed702c2"
      },
      "execution_count": 58,
      "outputs": [
        {
          "output_type": "stream",
          "name": "stdout",
          "text": [
            "battery_power    0\n",
            "blue             0\n",
            "clock_speed      0\n",
            "dual_sim         0\n",
            "fc               0\n",
            "four_g           0\n",
            "int_memory       0\n",
            "m_dep            0\n",
            "mobile_wt        0\n",
            "n_cores          0\n",
            "pc               0\n",
            "px_height        0\n",
            "px_width         0\n",
            "ram              0\n",
            "sc_h             0\n",
            "sc_w             0\n",
            "talk_time        0\n",
            "three_g          0\n",
            "touch_screen     0\n",
            "wifi             0\n",
            "price_range      0\n",
            "dtype: int64\n"
          ]
        }
      ]
    },
    {
      "cell_type": "markdown",
      "source": [
        "# **Train-Test Split**"
      ],
      "metadata": {
        "id": "GIzLUT1a3CG3"
      }
    },
    {
      "cell_type": "markdown",
      "source": [
        "**Split the data 80 percent for training and 20 percent for testing**\n",
        "\n",
        "**Write random_state=42 because if you rerun code, it splits by using same rule**\n",
        "\n",
        "**As a result of using random_state=42, we can get same accuracy.**"
      ],
      "metadata": {
        "id": "L7fxNxwgojf9"
      }
    },
    {
      "cell_type": "code",
      "source": [
        "X_train, X_test, y_train, y_test = train_test_split(\n",
        "    X_scaled, y, test_size=0.2, random_state=42\n",
        ")"
      ],
      "metadata": {
        "id": "BeByt35F0VfQ"
      },
      "execution_count": 59,
      "outputs": []
    },
    {
      "cell_type": "markdown",
      "source": [
        "# **Training Models**"
      ],
      "metadata": {
        "id": "X6fUldWZ3O7b"
      }
    },
    {
      "cell_type": "markdown",
      "source": [
        "**Linear Regression**"
      ],
      "metadata": {
        "id": "ZhKeibXt3KRo"
      }
    },
    {
      "cell_type": "code",
      "source": [
        "from sklearn.linear_model import LinearRegression   # Here we import and use linear regression to make and test model.\n",
        "linreg = LinearRegression()\n",
        "linreg.fit(X_train, y_train)\n",
        "y_pred_lr = np.clip(np.round(linreg.predict(X_test)), 0, 3).astype(int)\n",
        "# score predicts and gives the accuracy of model\n",
        "print(\"Linear Regression Accuracy:\", accuracy_score(y_test, y_pred_lr))\n"
      ],
      "metadata": {
        "colab": {
          "base_uri": "https://localhost:8080/"
        },
        "id": "ayF1ClVQ0XdJ",
        "outputId": "a0b13927-25dc-4b66-ef7b-ceb05abc9cb7"
      },
      "execution_count": 60,
      "outputs": [
        {
          "output_type": "stream",
          "name": "stdout",
          "text": [
            "Linear Regression Accuracy: 0.91\n"
          ]
        }
      ]
    },
    {
      "cell_type": "markdown",
      "source": [
        "**Random Forest Classifier**"
      ],
      "metadata": {
        "id": "vR5VX8xF3VDc"
      }
    },
    {
      "cell_type": "code",
      "source": [
        "rfc = RandomForestClassifier(n_estimators=100, random_state=42)   # Here we import and use random forest classifier to make and test model.\n",
        "rfc.fit(X_train, y_train)\n",
        "y_pred_rf = rfc.predict(X_test)\n",
        "# score predicts and gives the accuracy of model\n",
        "print(\"Random Forest Accuracy:\", accuracy_score(y_test, y_pred_rf))"
      ],
      "metadata": {
        "colab": {
          "base_uri": "https://localhost:8080/"
        },
        "id": "Sd0FFKKw0elQ",
        "outputId": "c7432b72-f8a7-4beb-f3fe-db158abb631b"
      },
      "execution_count": 61,
      "outputs": [
        {
          "output_type": "stream",
          "name": "stdout",
          "text": [
            "Random Forest Accuracy: 0.8925\n"
          ]
        }
      ]
    },
    {
      "cell_type": "markdown",
      "source": [
        "**Gradient Boosting Classifier**"
      ],
      "metadata": {
        "id": "el8r_rpI3bfz"
      }
    },
    {
      "cell_type": "code",
      "source": [
        "gbc = GradientBoostingClassifier(n_estimators=100, random_state=42)   # Here we import and use gradient boosting classifier to make and test model.\n",
        "gbc.fit(X_train, y_train)\n",
        "y_pred_gb = gbc.predict(X_test)\n",
        "# score predicts and gives the accuracy of model\n",
        "print(\"Gradient Boosting Accuracy:\", accuracy_score(y_test, y_pred_gb))"
      ],
      "metadata": {
        "colab": {
          "base_uri": "https://localhost:8080/"
        },
        "id": "nX9KVh8h0ijp",
        "outputId": "ebb8689d-e481-4502-de90-8c2579e26f75"
      },
      "execution_count": 63,
      "outputs": [
        {
          "output_type": "stream",
          "name": "stdout",
          "text": [
            "Gradient Boosting Accuracy: 0.905\n"
          ]
        }
      ]
    },
    {
      "cell_type": "markdown",
      "source": [
        "# **Evaluating Models And Creating Confusion Matrix**"
      ],
      "metadata": {
        "id": "yozK6hxv3hCr"
      }
    },
    {
      "cell_type": "code",
      "source": [
        "def evaluate_model(y_true, y_pred, model_name):\n",
        "    print(f\"\\n{model_name} Classification Report:\")\n",
        "    print(classification_report(y_true, y_pred))\n",
        "    cm = confusion_matrix(y_true, y_pred)\n",
        "    sns.heatmap(cm, annot=True, fmt='d', cmap='Blues')\n",
        "    plt.title(f'{model_name} Confusion Matrix')\n",
        "    plt.xlabel('Predicted')\n",
        "    plt.ylabel('Actual')\n",
        "    plt.show()"
      ],
      "metadata": {
        "id": "C_C2KOMI0nuz"
      },
      "execution_count": 64,
      "outputs": []
    },
    {
      "cell_type": "markdown",
      "source": [
        "**Linear Regression**"
      ],
      "metadata": {
        "id": "Ep4kX9_9JF25"
      }
    },
    {
      "cell_type": "code",
      "source": [
        "evaluate_model(y_test, y_pred_lr, \"Linear Regression\")"
      ],
      "metadata": {
        "colab": {
          "base_uri": "https://localhost:8080/",
          "height": 698
        },
        "id": "bRgz8iszIxF9",
        "outputId": "ed037bee-6a3e-4834-9909-696ae6837155"
      },
      "execution_count": 65,
      "outputs": [
        {
          "output_type": "stream",
          "name": "stdout",
          "text": [
            "\n",
            "Linear Regression Classification Report:\n",
            "              precision    recall  f1-score   support\n",
            "\n",
            "           0       1.00      0.90      0.94       105\n",
            "           1       0.88      0.99      0.93        91\n",
            "           2       0.79      0.99      0.88        92\n",
            "           3       1.00      0.79      0.89       112\n",
            "\n",
            "    accuracy                           0.91       400\n",
            "   macro avg       0.92      0.92      0.91       400\n",
            "weighted avg       0.93      0.91      0.91       400\n",
            "\n"
          ]
        },
        {
          "output_type": "display_data",
          "data": {
            "text/plain": [
              "<Figure size 640x480 with 2 Axes>"
            ],
            "image/png": "[encoded data removed]"
          },
          "metadata": {}
        }
      ]
    },
    {
      "cell_type": "markdown",
      "source": [
        "**Random Forest**"
      ],
      "metadata": {
        "id": "WbKQyQLJJQuP"
      }
    },
    {
      "cell_type": "code",
      "source": [
        "evaluate_model(y_test, y_pred_rf, \"Random Forest\")"
      ],
      "metadata": {
        "colab": {
          "base_uri": "https://localhost:8080/",
          "height": 698
        },
        "id": "ob4GwQptI7mU",
        "outputId": "12e8762a-f0b1-4cd3-b975-38f4ea103a5d"
      },
      "execution_count": 66,
      "outputs": [
        {
          "output_type": "stream",
          "name": "stdout",
          "text": [
            "\n",
            "Random Forest Classification Report:\n",
            "              precision    recall  f1-score   support\n",
            "\n",
            "           0       0.95      0.96      0.96       105\n",
            "           1       0.89      0.87      0.88        91\n",
            "           2       0.78      0.87      0.82        92\n",
            "           3       0.94      0.87      0.90       112\n",
            "\n",
            "    accuracy                           0.89       400\n",
            "   macro avg       0.89      0.89      0.89       400\n",
            "weighted avg       0.90      0.89      0.89       400\n",
            "\n"
          ]
        },
        {
          "output_type": "display_data",
          "data": {
            "text/plain": [
              "<Figure size 640x480 with 2 Axes>"
            ],
            "image/png": "[encoded data removed]"
          },
          "metadata": {}
        }
      ]
    },
    {
      "cell_type": "markdown",
      "source": [
        "**Gradient Boosting**"
      ],
      "metadata": {
        "id": "D05yOTFKJSlp"
      }
    },
    {
      "cell_type": "code",
      "source": [
        "evaluate_model(y_test, y_pred_gb, \"Gradient Boosting\")"
      ],
      "metadata": {
        "colab": {
          "base_uri": "https://localhost:8080/",
          "height": 698
        },
        "id": "z2mWAkyaI_o6",
        "outputId": "6d55e4e8-0bd3-4d76-8410-f7021f2a6e94"
      },
      "execution_count": 67,
      "outputs": [
        {
          "output_type": "stream",
          "name": "stdout",
          "text": [
            "\n",
            "Gradient Boosting Classification Report:\n",
            "              precision    recall  f1-score   support\n",
            "\n",
            "           0       0.96      0.95      0.96       105\n",
            "           1       0.89      0.89      0.89        91\n",
            "           2       0.82      0.87      0.85        92\n",
            "           3       0.94      0.90      0.92       112\n",
            "\n",
            "    accuracy                           0.91       400\n",
            "   macro avg       0.90      0.90      0.90       400\n",
            "weighted avg       0.91      0.91      0.91       400\n",
            "\n"
          ]
        },
        {
          "output_type": "display_data",
          "data": {
            "text/plain": [
              "<Figure size 640x480 with 2 Axes>"
            ],
            "image/png": "[encoded data removed]"
          },
          "metadata": {}
        }
      ]
    },
    {
      "cell_type": "markdown",
      "source": [
        "# **Visualizing Feature Importance**"
      ],
      "metadata": {
        "id": "K2JtEFto3_Hh"
      }
    },
    {
      "cell_type": "code",
      "source": [
        "importances = rfc.feature_importances_   # Bar chart that shows the importance of features of a mobile phone\n",
        "features = X.columns\n",
        "indices = np.argsort(importances)[::-1]\n",
        "\n",
        "plt.figure(figsize=(10, 6))\n",
        "plt.title(\"Feature Importances - Random Forest\")\n",
        "plt.bar(range(X.shape[1]), importances[indices])\n",
        "plt.xticks(range(X.shape[1]), features[indices], rotation=90)\n",
        "plt.tight_layout()\n",
        "plt.show()"
      ],
      "metadata": {
        "id": "HGK5_uAU1Dmv",
        "outputId": "83491397-0243-4fbd-c9d6-f30cf2d2349e",
        "colab": {
          "base_uri": "https://localhost:8080/",
          "height": 607
        }
      },
      "execution_count": 68,
      "outputs": [
        {
          "output_type": "display_data",
          "data": {
            "text/plain": [
              "<Figure size 1000x600 with 1 Axes>"
            ],
            "image/png": "[encoded data removed]"
          },
          "metadata": {}
        }
      ]
    },
    {
      "cell_type": "markdown",
      "source": [
        "# **Predicting for a New Mobile**"
      ],
      "metadata": {
        "id": "EVOeM549l9uh"
      }
    },
    {
      "cell_type": "markdown",
      "source": [
        "**Here we are predicting the price category of a new mobile phone**"
      ],
      "metadata": {
        "id": "x1PE-xIImgh7"
      }
    },
    {
      "cell_type": "markdown",
      "source": [
        "# **Prediction 1**"
      ],
      "metadata": {
        "id": "i-9TRU8_m3vo"
      }
    },
    {
      "cell_type": "code",
      "source": [
        "sample = pd.DataFrame({\n",
        "    'battery_power': [1099],\n",
        "    'blue': [0],\n",
        "    'clock_speed': [0.5],\n",
        "    'dual_sim': [0],\n",
        "    'fc': [13],\n",
        "    'four_g': [1],\n",
        "    'int_memory': [61],\n",
        "    'm_dep': [0.3],\n",
        "    'mobile_wt': [146],\n",
        "    'n_cores': [3],\n",
        "    'pc': [20],\n",
        "    'px_height': [393],\n",
        "    'px_width': [1096],\n",
        "    'ram': [2101],\n",
        "    'sc_h': [17],\n",
        "    'sc_w': [10],\n",
        "    'talk_time': [3],\n",
        "    'three_g': [1],\n",
        "    'touch_screen': [1],\n",
        "    'wifi': [1]  })   # Sample Mobile Details\n",
        "sample_scaled = scaler.transform(sample)   # Scale the input\n",
        "prediction = gbc.predict(sample_scaled)[0]   # Predict using trained model\n",
        "price_map = {\n",
        "    0: \"Low\",\n",
        "    1: \"Medium\",\n",
        "    2: \"High\",\n",
        "    3: \"Very High\"  }   # Map numeric prediction to category\n",
        "sample['Predicted Price Range'] = price_map[prediction]   # Add prediction to DataFrame\n",
        "print(\"\\nMobile Data with Prediction:\")   # Display full mobile data with prediction\n",
        "print(sample.to_string(index=False))"
      ],
      "metadata": {
        "id": "L8NUeddPmC_5",
        "colab": {
          "base_uri": "https://localhost:8080/"
        },
        "outputId": "0c708af2-c0c0-44ad-b0d0-2d5978a74c2c"
      },
      "execution_count": 69,
      "outputs": [
        {
          "output_type": "stream",
          "name": "stdout",
          "text": [
            "\n",
            "Mobile Data with Prediction:\n",
            " battery_power  blue  clock_speed  dual_sim  fc  four_g  int_memory  m_dep  mobile_wt  n_cores  pc  px_height  px_width  ram  sc_h  sc_w  talk_time  three_g  touch_screen  wifi Predicted Price Range\n",
            "          1099     0          0.5         0  13       1          61    0.3        146        3  20        393      1096 2101    17    10          3        1             1     1                Medium\n"
          ]
        }
      ]
    },
    {
      "cell_type": "markdown",
      "source": [
        "# **Prediction 2**"
      ],
      "metadata": {
        "id": "E1waS8cjm8px"
      }
    },
    {
      "cell_type": "code",
      "source": [
        "sample = pd.DataFrame({\n",
        "    'battery_power': [512],\n",
        "    'blue': [1],\n",
        "    'clock_speed': [0.5],\n",
        "    'dual_sim': [1],\n",
        "    'fc': [7],\n",
        "    'four_g': [0],\n",
        "    'int_memory': [15],\n",
        "    'm_dep': [0.9],\n",
        "    'mobile_wt': [83],\n",
        "    'n_cores': [3],\n",
        "    'pc': [15],\n",
        "    'px_height': [249],\n",
        "    'px_width': [1849],\n",
        "    'ram': [3038],\n",
        "    'sc_h': [18],\n",
        "    'sc_w': [14],\n",
        "    'talk_time': [15],\n",
        "    'three_g': [0],\n",
        "    'touch_screen': [1],\n",
        "    'wifi': [1]  })   # Sample Mobile Details\n",
        "sample_scaled = scaler.transform(sample)   # Scale the input\n",
        "prediction = gbc.predict(sample_scaled)[0]   # Predict using trained model\n",
        "price_map = {\n",
        "    0: \"Low\",\n",
        "    1: \"Medium\",\n",
        "    2: \"High\",\n",
        "    3: \"Very High\"  }   # Map numeric prediction to category\n",
        "sample['Predicted Price Range'] = price_map[prediction]   # Add prediction to DataFrame\n",
        "print(\"\\nMobile Data with Prediction:\")   # Display full mobile data with prediction\n",
        "print(sample.to_string(index=False))"
      ],
      "metadata": {
        "id": "SCRbGQIgmzyA",
        "colab": {
          "base_uri": "https://localhost:8080/"
        },
        "outputId": "5e419c29-9ce6-47ca-9c42-e9356b69fc27"
      },
      "execution_count": 70,
      "outputs": [
        {
          "output_type": "stream",
          "name": "stdout",
          "text": [
            "\n",
            "Mobile Data with Prediction:\n",
            " battery_power  blue  clock_speed  dual_sim  fc  four_g  int_memory  m_dep  mobile_wt  n_cores  pc  px_height  px_width  ram  sc_h  sc_w  talk_time  three_g  touch_screen  wifi Predicted Price Range\n",
            "           512     1          0.5         1   7       0          15    0.9         83        3  15        249      1849 3038    18    14         15        0             1     1                  High\n"
          ]
        }
      ]
    },
    {
      "cell_type": "markdown",
      "source": [
        "# **Prediction 3**"
      ],
      "metadata": {
        "id": "dNzOAT4GnBDS"
      }
    },
    {
      "cell_type": "code",
      "source": [
        "sample = pd.DataFrame({\n",
        "    'battery_power': [571],\n",
        "    'blue': [1],\n",
        "    'clock_speed': [2],\n",
        "    'dual_sim': [1],\n",
        "    'fc': [5],\n",
        "    'four_g': [1],\n",
        "    'int_memory': [58],\n",
        "    'm_dep': [0.6],\n",
        "    'mobile_wt': [101],\n",
        "    'n_cores': [6],\n",
        "    'pc': [11],\n",
        "    'px_height': [31],\n",
        "    'px_width': [1536],\n",
        "    'ram': [1150],\n",
        "    'sc_h': [19],\n",
        "    'sc_w': [10],\n",
        "    'talk_time': [11],\n",
        "    'three_g': [1],\n",
        "    'touch_screen': [0],\n",
        "    'wifi': [1]  })   # Sample Mobile Details\n",
        "sample_scaled = scaler.transform(sample)   # Scale the input\n",
        "prediction = gbc.predict(sample_scaled)[0]   # Predict using trained model\n",
        "price_map = {\n",
        "    0: \"Low\",\n",
        "    1: \"Medium\",\n",
        "    2: \"High\",\n",
        "    3: \"Very High\"  }   # Map numeric prediction to category\n",
        "sample['Predicted Price Range'] = price_map[prediction]   # Add prediction to DataFrame\n",
        "print(\"\\nMobile Data with Prediction:\")   # Display full mobile data with prediction\n",
        "print(sample.to_string(index=False))"
      ],
      "metadata": {
        "id": "YjHq6a4Xm1Tm",
        "colab": {
          "base_uri": "https://localhost:8080/"
        },
        "outputId": "0f9b6d78-601a-412b-bb62-b07b1babb30f"
      },
      "execution_count": 71,
      "outputs": [
        {
          "output_type": "stream",
          "name": "stdout",
          "text": [
            "\n",
            "Mobile Data with Prediction:\n",
            " battery_power  blue  clock_speed  dual_sim  fc  four_g  int_memory  m_dep  mobile_wt  n_cores  pc  px_height  px_width  ram  sc_h  sc_w  talk_time  three_g  touch_screen  wifi Predicted Price Range\n",
            "           571     1            2         1   5       1          58    0.6        101        6  11         31      1536 1150    19    10         11        1             0     1                   Low\n"
          ]
        }
      ]
    },
    {
      "cell_type": "markdown",
      "source": [
        "# **Prediction 4**"
      ],
      "metadata": {
        "id": "Tydsy2QJnDNh"
      }
    },
    {
      "cell_type": "code",
      "source": [
        "sample = pd.DataFrame({\n",
        "    'battery_power': [1939],\n",
        "    'blue': [1],\n",
        "    'clock_speed': [2.8],\n",
        "    'dual_sim': [1],\n",
        "    'fc': [0],\n",
        "    'four_g': [1],\n",
        "    'int_memory': [55],\n",
        "    'm_dep': [0.6],\n",
        "    'mobile_wt': [199],\n",
        "    'n_cores': [4],\n",
        "    'pc': [10],\n",
        "    'px_height': [320],\n",
        "    'px_width': [520],\n",
        "    'ram': [3817],\n",
        "    'sc_h': [14],\n",
        "    'sc_w': [10],\n",
        "    'talk_time': [18],\n",
        "    'three_g': [1],\n",
        "    'touch_screen': [1],\n",
        "    'wifi': [0]  })   # Sample Mobile Details\n",
        "sample_scaled = scaler.transform(sample)   # Scale the input\n",
        "prediction = gbc.predict(sample_scaled)[0]   # Predict using trained model\n",
        "price_map = {\n",
        "    0: \"Low\",\n",
        "    1: \"Medium\",\n",
        "    2: \"High\",\n",
        "    3: \"Very High\"  }   # Map numeric prediction to category\n",
        "sample['Predicted Price Range'] = price_map[prediction]   # Add prediction to DataFrame\n",
        "print(\"\\nMobile Data with Prediction:\")   # Display full mobile data with prediction\n",
        "print(sample.to_string(index=False))"
      ],
      "metadata": {
        "id": "nb2mLGhRn_DS",
        "colab": {
          "base_uri": "https://localhost:8080/"
        },
        "outputId": "ea60323a-bc6f-4888-f202-6994b0e8e635"
      },
      "execution_count": 72,
      "outputs": [
        {
          "output_type": "stream",
          "name": "stdout",
          "text": [
            "\n",
            "Mobile Data with Prediction:\n",
            " battery_power  blue  clock_speed  dual_sim  fc  four_g  int_memory  m_dep  mobile_wt  n_cores  pc  px_height  px_width  ram  sc_h  sc_w  talk_time  three_g  touch_screen  wifi Predicted Price Range\n",
            "          1939     1          2.8         1   0       1          55    0.6        199        4  10        320       520 3817    14    10         18        1             1     0             Very High\n"
          ]
        }
      ]
    },
    {
      "cell_type": "markdown",
      "source": [
        "# **Prediction 5**"
      ],
      "metadata": {
        "id": "q30lOXdUnFA_"
      }
    },
    {
      "cell_type": "code",
      "source": [
        "sample = pd.DataFrame({\n",
        "    'battery_power': [1983],\n",
        "    'blue': [1],\n",
        "    'clock_speed': [0.5],\n",
        "    'dual_sim': [1],\n",
        "    'fc': [3],\n",
        "    'four_g': [0],\n",
        "    'int_memory': [43],\n",
        "    'm_dep': [1],\n",
        "    'mobile_wt': [87],\n",
        "    'n_cores': [6],\n",
        "    'pc': [10],\n",
        "    'px_height': [349],\n",
        "    'px_width': [676],\n",
        "    'ram': [2082],\n",
        "    'sc_h': [9],\n",
        "    'sc_w': [4],\n",
        "    'talk_time': [3],\n",
        "    'three_g': [0],\n",
        "    'touch_screen': [1],\n",
        "    'wifi': [1]  })   # Sample Mobile Details\n",
        "sample_scaled = scaler.transform(sample)   # Scale the input\n",
        "prediction = gbc.predict(sample_scaled)[0]   # Predict using trained model\n",
        "price_map = {\n",
        "    0: \"Low\",\n",
        "    1: \"Medium\",\n",
        "    2: \"High\",\n",
        "    3: \"Very High\"  }   # Map numeric prediction to category\n",
        "sample['Predicted Price Range'] = price_map[prediction]   # Add prediction to DataFrame\n",
        "print(\"\\nMobile Data with Prediction:\")   # Display full mobile data with prediction\n",
        "print(sample.to_string(index=False))"
      ],
      "metadata": {
        "id": "DJ1-9KySoAjG",
        "colab": {
          "base_uri": "https://localhost:8080/"
        },
        "outputId": "59c85db1-a70f-4377-889b-aa454df67887"
      },
      "execution_count": 73,
      "outputs": [
        {
          "output_type": "stream",
          "name": "stdout",
          "text": [
            "\n",
            "Mobile Data with Prediction:\n",
            " battery_power  blue  clock_speed  dual_sim  fc  four_g  int_memory  m_dep  mobile_wt  n_cores  pc  px_height  px_width  ram  sc_h  sc_w  talk_time  three_g  touch_screen  wifi Predicted Price Range\n",
            "          1983     1          0.5         1   3       0          43      1         87        6  10        349       676 2082     9     4          3        0             1     1                Medium\n"
          ]
        }
      ]
    },
    {
      "cell_type": "markdown",
      "source": [
        "# **Prediction 6**"
      ],
      "metadata": {
        "id": "yIuBWIR4nRVf"
      }
    },
    {
      "cell_type": "code",
      "source": [
        "sample = pd.DataFrame({\n",
        "    'battery_power': [1168],\n",
        "    'blue': [0],\n",
        "    'clock_speed': [1.3],\n",
        "    'dual_sim': [0],\n",
        "    'fc': [9],\n",
        "    'four_g': [0],\n",
        "    'int_memory': [61],\n",
        "    'm_dep': [0.1],\n",
        "    'mobile_wt': [90],\n",
        "    'n_cores': [8],\n",
        "    'pc': [10],\n",
        "    'px_height': [159],\n",
        "    'px_width': [1578],\n",
        "    'ram': [2941],\n",
        "    'sc_h': [9],\n",
        "    'sc_w': [4],\n",
        "    'talk_time': [17],\n",
        "    'three_g': [0],\n",
        "    'touch_screen': [0],\n",
        "    'wifi': [1]  })   # Sample Mobile Details\n",
        "sample_scaled = scaler.transform(sample)   # Scale the input\n",
        "prediction = gbc.predict(sample_scaled)[0]   # Predict using trained model\n",
        "price_map = {\n",
        "    0: \"Low\",\n",
        "    1: \"Medium\",\n",
        "    2: \"High\",\n",
        "    3: \"Very High\"  }   # Map numeric prediction to category\n",
        "sample['Predicted Price Range'] = price_map[prediction]   # Add prediction to DataFrame\n",
        "print(\"\\nMobile Data with Prediction:\")   # Display full mobile data with prediction\n",
        "print(sample.to_string(index=False))"
      ],
      "metadata": {
        "id": "KpCkGHqAoDKB",
        "colab": {
          "base_uri": "https://localhost:8080/"
        },
        "outputId": "5e588631-9725-4735-a1d2-42f52a947746"
      },
      "execution_count": 74,
      "outputs": [
        {
          "output_type": "stream",
          "name": "stdout",
          "text": [
            "\n",
            "Mobile Data with Prediction:\n",
            " battery_power  blue  clock_speed  dual_sim  fc  four_g  int_memory  m_dep  mobile_wt  n_cores  pc  px_height  px_width  ram  sc_h  sc_w  talk_time  three_g  touch_screen  wifi Predicted Price Range\n",
            "          1168     0          1.3         0   9       0          61    0.1         90        8  10        159      1578 2941     9     4         17        0             0     1                  High\n"
          ]
        }
      ]
    },
    {
      "cell_type": "markdown",
      "source": [
        "# **Prediction 7**"
      ],
      "metadata": {
        "id": "XQ-Br6EansxB"
      }
    },
    {
      "cell_type": "code",
      "source": [
        "sample = pd.DataFrame({\n",
        "    'battery_power': [911],\n",
        "    'blue': [0],\n",
        "    'clock_speed': [1.4],\n",
        "    'dual_sim': [1],\n",
        "    'fc': [3],\n",
        "    'four_g': [0],\n",
        "    'int_memory': [14],\n",
        "    'm_dep': [0.7],\n",
        "    'mobile_wt': [199],\n",
        "    'n_cores': [4],\n",
        "    'pc': [4],\n",
        "    'px_height': [1563],\n",
        "    'px_width': [1692],\n",
        "    'ram': [1179],\n",
        "    'sc_h': [16],\n",
        "    'sc_w': [3],\n",
        "    'talk_time': [11],\n",
        "    'three_g': [0],\n",
        "    'touch_screen': [1],\n",
        "    'wifi': [0]  })   # Sample Mobile Details\n",
        "sample_scaled = scaler.transform(sample)   # Scale the input\n",
        "prediction = gbc.predict(sample_scaled)[0]   # Predict using trained model\n",
        "price_map = {\n",
        "    0: \"Low\",\n",
        "    1: \"Medium\",\n",
        "    2: \"High\",\n",
        "    3: \"Very High\"  }   # Map numeric prediction to category\n",
        "sample['Predicted Price Range'] = price_map[prediction]   # Add prediction to DataFrame\n",
        "print(\"\\nMobile Data with Prediction:\")   # Display full mobile data with prediction\n",
        "print(sample.to_string(index=False))"
      ],
      "metadata": {
        "id": "K0PwkOqRoF4_",
        "colab": {
          "base_uri": "https://localhost:8080/"
        },
        "outputId": "1ce245df-abb8-4e75-800e-cd66e7976f9b"
      },
      "execution_count": 75,
      "outputs": [
        {
          "output_type": "stream",
          "name": "stdout",
          "text": [
            "\n",
            "Mobile Data with Prediction:\n",
            " battery_power  blue  clock_speed  dual_sim  fc  four_g  int_memory  m_dep  mobile_wt  n_cores  pc  px_height  px_width  ram  sc_h  sc_w  talk_time  three_g  touch_screen  wifi Predicted Price Range\n",
            "           911     0          1.4         1   3       0          14    0.7        199        4   4       1563      1692 1179    16     3         11        0             1     0                Medium\n"
          ]
        }
      ]
    },
    {
      "cell_type": "markdown",
      "source": [
        "# **Prediction 8**"
      ],
      "metadata": {
        "id": "iECl1czHnvYp"
      }
    },
    {
      "cell_type": "code",
      "source": [
        "sample = pd.DataFrame({\n",
        "    'battery_power': [1131],\n",
        "    'blue': [1],\n",
        "    'clock_speed': [0.5],\n",
        "    'dual_sim': [1],\n",
        "    'fc': [11],\n",
        "    'four_g': [0],\n",
        "    'int_memory': [49],\n",
        "    'm_dep': [0.6],\n",
        "    'mobile_wt': [101],\n",
        "    'n_cores': [5],\n",
        "    'pc': [18],\n",
        "    'px_height': [658],\n",
        "    'px_width': [878],\n",
        "    'ram': [3961],\n",
        "    'sc_h': [19],\n",
        "    'sc_w': [13],\n",
        "    'talk_time': [16],\n",
        "    'three_g': [1],\n",
        "    'touch_screen': [1],\n",
        "    'wifi': [0]  })   # Sample Mobile Details\n",
        "sample_scaled = scaler.transform(sample)   # Scale the input\n",
        "prediction = gbc.predict(sample_scaled)[0]   # Predict using trained model\n",
        "price_map = {\n",
        "    0: \"Low\",\n",
        "    1: \"Medium\",\n",
        "    2: \"High\",\n",
        "    3: \"Very High\"  }   # Map numeric prediction to category\n",
        "sample['Predicted Price Range'] = price_map[prediction]   # Add prediction to DataFrame\n",
        "print(\"\\nMobile Data with Prediction:\")   # Display full mobile data with prediction\n",
        "print(sample.to_string(index=False))"
      ],
      "metadata": {
        "id": "O2zrrBMBoHYK",
        "colab": {
          "base_uri": "https://localhost:8080/"
        },
        "outputId": "f10f28a5-533c-496c-b8b4-63c7ab0f7721"
      },
      "execution_count": 76,
      "outputs": [
        {
          "output_type": "stream",
          "name": "stdout",
          "text": [
            "\n",
            "Mobile Data with Prediction:\n",
            " battery_power  blue  clock_speed  dual_sim  fc  four_g  int_memory  m_dep  mobile_wt  n_cores  pc  px_height  px_width  ram  sc_h  sc_w  talk_time  three_g  touch_screen  wifi Predicted Price Range\n",
            "          1131     1          0.5         1  11       0          49    0.6        101        5  18        658       878 3961    19    13         16        1             1     0             Very High\n"
          ]
        }
      ]
    },
    {
      "cell_type": "markdown",
      "source": [
        "# **Prediction 9**"
      ],
      "metadata": {
        "id": "mmSOvchknxyB"
      }
    },
    {
      "cell_type": "code",
      "source": [
        "sample = pd.DataFrame({\n",
        "    'battery_power': [502],\n",
        "    'blue': [0],\n",
        "    'clock_speed': [1.5],\n",
        "    'dual_sim': [1],\n",
        "    'fc': [7],\n",
        "    'four_g': [0],\n",
        "    'int_memory': [37],\n",
        "    'm_dep': [0.2],\n",
        "    'mobile_wt': [199],\n",
        "    'n_cores': [2],\n",
        "    'pc': [12],\n",
        "    'px_height': [705],\n",
        "    'px_width': [1810],\n",
        "    'ram': [2086],\n",
        "    'sc_h': [6],\n",
        "    'sc_w': [1],\n",
        "    'talk_time': [14],\n",
        "    'three_g': [0],\n",
        "    'touch_screen': [1],\n",
        "    'wifi': [0]  })   # Sample Mobile Details\n",
        "sample_scaled = scaler.transform(sample)   # Scale the input\n",
        "prediction = gbc.predict(sample_scaled)[0]   # Predict using trained model\n",
        "price_map = {\n",
        "    0: \"Low\",\n",
        "    1: \"Medium\",\n",
        "    2: \"High\",\n",
        "    3: \"Very High\"  }   # Map numeric prediction to category\n",
        "sample['Predicted Price Range'] = price_map[prediction]   # Add prediction to DataFrame\n",
        "print(\"\\nMobile Data with Prediction:\")   # Display full mobile data with prediction\n",
        "print(sample.to_string(index=False))"
      ],
      "metadata": {
        "id": "wyVQ2eptoIgC",
        "colab": {
          "base_uri": "https://localhost:8080/"
        },
        "outputId": "e6308092-e063-4a5a-d0d7-af12cfe83326"
      },
      "execution_count": 77,
      "outputs": [
        {
          "output_type": "stream",
          "name": "stdout",
          "text": [
            "\n",
            "Mobile Data with Prediction:\n",
            " battery_power  blue  clock_speed  dual_sim  fc  four_g  int_memory  m_dep  mobile_wt  n_cores  pc  px_height  px_width  ram  sc_h  sc_w  talk_time  three_g  touch_screen  wifi Predicted Price Range\n",
            "           502     0          1.5         1   7       0          37    0.2        199        2  12        705      1810 2086     6     1         14        0             1     0                Medium\n"
          ]
        }
      ]
    },
    {
      "cell_type": "markdown",
      "source": [
        "# **Prediction 10**"
      ],
      "metadata": {
        "id": "rJiCLuQ7n1_a"
      }
    },
    {
      "cell_type": "code",
      "source": [
        "sample = pd.DataFrame({\n",
        "    'battery_power': [1928],\n",
        "    'blue': [1],\n",
        "    'clock_speed': [1.8],\n",
        "    'dual_sim': [0],\n",
        "    'fc': [9],\n",
        "    'four_g': [1],\n",
        "    'int_memory': [19],\n",
        "    'm_dep': [1],\n",
        "    'mobile_wt': [187],\n",
        "    'n_cores': [3],\n",
        "    'pc': [20],\n",
        "    'px_height': [691],\n",
        "    'px_width': [1580],\n",
        "    'ram': [3015],\n",
        "    'sc_h': [7],\n",
        "    'sc_w': [2],\n",
        "    'talk_time': [13],\n",
        "    'three_g': [1],\n",
        "    'touch_screen': [1],\n",
        "    'wifi': [1]  })   # Sample Mobile Details\n",
        "sample_scaled = scaler.transform(sample)   # Scale the input\n",
        "prediction = gbc.predict(sample_scaled)[0]   # Predict using trained model\n",
        "price_map = {\n",
        "    0: \"Low\",\n",
        "    1: \"Medium\",\n",
        "    2: \"High\",\n",
        "    3: \"Very High\"  }   # Map numeric prediction to category\n",
        "sample['Predicted Price Range'] = price_map[prediction]   # Add prediction to DataFrame\n",
        "print(\"\\nMobile Data with Prediction:\")   # Display full mobile data with prediction\n",
        "print(sample.to_string(index=False))"
      ],
      "metadata": {
        "id": "qysFhyYooJxq",
        "colab": {
          "base_uri": "https://localhost:8080/"
        },
        "outputId": "1617c9bc-d78b-4abd-be1f-f4fef88b38bb"
      },
      "execution_count": 78,
      "outputs": [
        {
          "output_type": "stream",
          "name": "stdout",
          "text": [
            "\n",
            "Mobile Data with Prediction:\n",
            " battery_power  blue  clock_speed  dual_sim  fc  four_g  int_memory  m_dep  mobile_wt  n_cores  pc  px_height  px_width  ram  sc_h  sc_w  talk_time  three_g  touch_screen  wifi Predicted Price Range\n",
            "          1928     1          1.8         0   9       1          19      1        187        3  20        691      1580 3015     7     2         13        1             1     1             Very High\n"
          ]
        }
      ]
    },
    {
      "cell_type": "markdown",
      "source": [
        "# **Prediction 11**"
      ],
      "metadata": {
        "id": "7XX-7sMSn4S6"
      }
    },
    {
      "cell_type": "code",
      "source": [
        "sample = pd.DataFrame({\n",
        "    'battery_power': [1883],\n",
        "    'blue': [0],\n",
        "    'clock_speed': [1.6],\n",
        "    'dual_sim': [0],\n",
        "    'fc': [9],\n",
        "    'four_g': [0],\n",
        "    'int_memory': [24],\n",
        "    'm_dep': [0.1],\n",
        "    'mobile_wt': [87],\n",
        "    'n_cores': [1],\n",
        "    'pc': [16],\n",
        "    'px_height': [203],\n",
        "    'px_width': [915],\n",
        "    'ram': [1175],\n",
        "    'sc_h': [17],\n",
        "    'sc_w': [10],\n",
        "    'talk_time': [3],\n",
        "    'three_g': [0],\n",
        "    'touch_screen': [0],\n",
        "    'wifi': [0]  })   # Sample Mobile Details\n",
        "sample_scaled = scaler.transform(sample)   # Scale the input\n",
        "prediction = gbc.predict(sample_scaled)[0]   # Predict using trained model\n",
        "price_map = {\n",
        "    0: \"Low\",\n",
        "    1: \"Medium\",\n",
        "    2: \"High\",\n",
        "    3: \"Very High\"  }   # Map numeric prediction to category\n",
        "sample['Predicted Price Range'] = price_map[prediction]   # Add prediction to DataFrame\n",
        "print(\"\\nMobile Data with Prediction:\")   # Display full mobile data with prediction\n",
        "print(sample.to_string(index=False))"
      ],
      "metadata": {
        "id": "jrVoOFp9oK-V",
        "colab": {
          "base_uri": "https://localhost:8080/"
        },
        "outputId": "bfb1d45b-3afc-4320-ae46-52f001df7db5"
      },
      "execution_count": 79,
      "outputs": [
        {
          "output_type": "stream",
          "name": "stdout",
          "text": [
            "\n",
            "Mobile Data with Prediction:\n",
            " battery_power  blue  clock_speed  dual_sim  fc  four_g  int_memory  m_dep  mobile_wt  n_cores  pc  px_height  px_width  ram  sc_h  sc_w  talk_time  three_g  touch_screen  wifi Predicted Price Range\n",
            "          1883     0          1.6         0   9       0          24    0.1         87        1  16        203       915 1175    17    10          3        0             0     0                   Low\n"
          ]
        }
      ]
    },
    {
      "cell_type": "markdown",
      "source": [
        "# **Prediction 12**"
      ],
      "metadata": {
        "id": "3kG54w54n4Pm"
      }
    },
    {
      "cell_type": "code",
      "source": [
        "sample = pd.DataFrame({\n",
        "    'battery_power': [563],\n",
        "    'blue': [1],\n",
        "    'clock_speed': [0.5],\n",
        "    'dual_sim': [1],\n",
        "    'fc': [2],\n",
        "    'four_g': [1],\n",
        "    'int_memory': [49],\n",
        "    'm_dep': [0.9],\n",
        "    'mobile_wt': [145],\n",
        "    'n_cores': [5],\n",
        "    'pc': [6],\n",
        "    'px_height': [1263],\n",
        "    'px_width': [1716],\n",
        "    'ram': [3993],\n",
        "    'sc_h': [11],\n",
        "    'sc_w': [2],\n",
        "    'talk_time': [9],\n",
        "    'three_g': [1],\n",
        "    'touch_screen': [1],\n",
        "    'wifi': [0]  })   # Sample Mobile Details\n",
        "sample_scaled = scaler.transform(sample)   # Scale the input\n",
        "prediction = gbc.predict(sample_scaled)[0]   # Predict using trained model\n",
        "price_map = {\n",
        "    0: \"Low\",\n",
        "    1: \"Medium\",\n",
        "    2: \"High\",\n",
        "    3: \"Very High\"  }   # Map numeric prediction to category\n",
        "sample['Predicted Price Range'] = price_map[prediction]   # Add prediction to DataFrame\n",
        "print(\"\\nMobile Data with Prediction:\")   # Display full mobile data with prediction\n",
        "print(sample.to_string(index=False))"
      ],
      "metadata": {
        "id": "33dIqsYRoMIS",
        "colab": {
          "base_uri": "https://localhost:8080/"
        },
        "outputId": "a9a49998-b58d-4440-e8e7-24fa6d9aa4a5"
      },
      "execution_count": 80,
      "outputs": [
        {
          "output_type": "stream",
          "name": "stdout",
          "text": [
            "\n",
            "Mobile Data with Prediction:\n",
            " battery_power  blue  clock_speed  dual_sim  fc  four_g  int_memory  m_dep  mobile_wt  n_cores  pc  px_height  px_width  ram  sc_h  sc_w  talk_time  three_g  touch_screen  wifi Predicted Price Range\n",
            "           563     1          0.5         1   2       1          49    0.9        145        5   6       1263      1716 3993    11     2          9        1             1     0             Very High\n"
          ]
        }
      ]
    }
  ]
}